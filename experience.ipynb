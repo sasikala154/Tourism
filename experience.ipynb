{
 "cells": [
  {
   "cell_type": "code",
   "execution_count": 1,
   "metadata": {},
   "outputs": [],
   "source": [
    "import mysql.connector"
   ]
  },
  {
   "cell_type": "code",
   "execution_count": 2,
   "metadata": {},
   "outputs": [],
   "source": [
    "conn = mysql.connector.connect(\n",
    "    host=\"localhost\",\n",
    "    user=\"root\",\n",
    "    password=\"Sai@12345\",\n",
    "    database=\"tourism\"\n",
    ")\n",
    "\n",
    "cursor = conn.cursor()\n",
    "\n"
   ]
  },
  {
   "cell_type": "code",
   "execution_count": 3,
   "metadata": {},
   "outputs": [],
   "source": [
    "query_1 = \"\"\"\n",
    "CREATE TABLE one AS\n",
    "SELECT t.TransactionId, t.UserId, t.VisitYear, t.VisitMonth, t.VisitMode, t.AttractionId, t.Rating,\n",
    "       u.ContinentId, u.RegionId, u.CountryId, u.CityId\n",
    "FROM transaction t\n",
    "INNER JOIN user u ON t.UserId = u.UserId;\n",
    "\"\"\"\n",
    "\n",
    "cursor.execute(query_1)\n",
    "conn.commit()"
   ]
  },
  {
   "cell_type": "code",
   "execution_count": 4,
   "metadata": {},
   "outputs": [],
   "source": [
    "query_2 = \"\"\"\n",
    "CREATE TABLE  two AS\n",
    "SELECT j1.*, c.Continent\n",
    "FROM joined_1 j1\n",
    "INNER JOIN continent c ON j1.ContinentId = c.ContinentId;\n",
    "\"\"\"\n",
    "\n",
    "cursor.execute(query_2)\n",
    "conn.commit()"
   ]
  },
  {
   "cell_type": "code",
   "execution_count": 5,
   "metadata": {},
   "outputs": [],
   "source": [
    "query_3 = \"\"\"\n",
    "CREATE TABLE three AS\n",
    "SELECT j2.*, r.Region\n",
    "FROM joined_2 j2\n",
    "INNER JOIN region r ON j2.RegionId = r.RegionId;\n",
    "\"\"\"\n",
    "\n",
    "cursor.execute(query_3)\n",
    "conn.commit()"
   ]
  },
  {
   "cell_type": "code",
   "execution_count": 6,
   "metadata": {},
   "outputs": [],
   "source": [
    "query_4 = \"\"\"\n",
    "CREATE TABLE four AS\n",
    "SELECT j3.*, co.Country\n",
    "FROM joined_3 j3\n",
    "INNER JOIN country co ON j3.CountryId = co.CountryId;\n",
    "\"\"\"\n",
    "\n",
    "cursor.execute(query_4)\n",
    "conn.commit()"
   ]
  },
  {
   "cell_type": "code",
   "execution_count": 7,
   "metadata": {},
   "outputs": [],
   "source": [
    "query_5 = \"\"\"\n",
    "CREATE TABLE five AS\n",
    "SELECT j4.*, ci.CityName\n",
    "FROM joined_4 j4\n",
    "INNER JOIN city ci ON j4.CityId = ci.CityId;\n",
    "\"\"\"\n",
    "\n",
    "cursor.execute(query_5)\n",
    "conn.commit()"
   ]
  },
  {
   "cell_type": "code",
   "execution_count": 8,
   "metadata": {},
   "outputs": [],
   "source": [
    "query_6 = \"\"\"\n",
    "CREATE TABLE six AS\n",
    "SELECT j5.*, it.Attraction, it.AttractionAddress, it.AttractionTypeId\n",
    "FROM joined_5 j5\n",
    "INNER JOIN item it ON j5.AttractionId = it.AttractionId;\n",
    "\"\"\"\n",
    "\n",
    "cursor.execute(query_6)\n",
    "conn.commit()"
   ]
  },
  {
   "cell_type": "code",
   "execution_count": 9,
   "metadata": {},
   "outputs": [],
   "source": [
    "query_7 = \"\"\"\n",
    "CREATE TABLE seven AS\n",
    "SELECT j6.*, t.AttractionType\n",
    "FROM joined_6 j6\n",
    "INNER JOIN type t ON j6.AttractionTypeId = t.AttractionTypeId;\n",
    "\"\"\"\n",
    "\n",
    "cursor.execute(query_7)\n",
    "conn.commit()"
   ]
  },
  {
   "cell_type": "code",
   "execution_count": 10,
   "metadata": {},
   "outputs": [],
   "source": [
    "query_8 = \"\"\"\n",
    "CREATE TABLE  eight AS\n",
    "SELECT j7.*, m.VisitMode AS VisitModeName\n",
    "FROM joined_7 j7\n",
    "INNER JOIN mode m ON j7.VisitMode = m.VisitModeId;\n",
    "\"\"\"\n",
    "\n",
    "cursor.execute(query_8)\n",
    "conn.commit()"
   ]
  },
  {
   "cell_type": "code",
   "execution_count": 11,
   "metadata": {},
   "outputs": [],
   "source": [
    "import pandas as pd"
   ]
  },
  {
   "cell_type": "code",
   "execution_count": 12,
   "metadata": {},
   "outputs": [],
   "source": [
    "final = \"SELECT * FROM eight\"\n",
    "cursor.execute(final)\n",
    "result = cursor.fetchall()\n",
    "columns = [desc[0] for desc in cursor.description]\n",
    "\n",
    "df = pd.DataFrame(result, columns=columns)"
   ]
  },
  {
   "cell_type": "code",
   "execution_count": 14,
   "metadata": {},
   "outputs": [],
   "source": [
    "df.to_csv(\"tor.csv\",index = False)"
   ]
  }
 ],
 "metadata": {
  "kernelspec": {
   "display_name": "Python 3",
   "language": "python",
   "name": "python3"
  },
  "language_info": {
   "codemirror_mode": {
    "name": "ipython",
    "version": 3
   },
   "file_extension": ".py",
   "mimetype": "text/x-python",
   "name": "python",
   "nbconvert_exporter": "python",
   "pygments_lexer": "ipython3",
   "version": "3.13.0"
  }
 },
 "nbformat": 4,
 "nbformat_minor": 2
}
